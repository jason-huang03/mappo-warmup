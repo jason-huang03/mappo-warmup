{
 "cells": [
  {
   "cell_type": "code",
   "execution_count": 10,
   "metadata": {},
   "outputs": [],
   "source": [
    "import copy\n",
    "import glob\n",
    "import json\n",
    "import os\n",
    "import shutil\n",
    "import unittest\n",
    "from math import factorial\n",
    "import torch\n",
    "import torch.nn as nn\n",
    "\n",
    "import gym\n",
    "import numpy as np\n",
    "\n",
    "from overcooked_ai_py.agents.agent import (\n",
    "    AgentGroup,\n",
    "    AgentPair,\n",
    "    FixedPlanAgent,\n",
    "    GreedyHumanModel,\n",
    "    RandomAgent,\n",
    ")\n",
    "\n",
    "from overcooked_ai_py.agents.benchmarking import AgentEvaluator\n",
    "from overcooked_ai_py.mdp.actions import Action, Direction\n",
    "from overcooked_ai_py.mdp.layout_generator import (\n",
    "    DISH_DISPENSER,\n",
    "    ONION_DISPENSER,\n",
    "    POT,\n",
    "    SERVING_LOC,\n",
    "    TOMATO_DISPENSER,\n",
    "    LayoutGenerator,\n",
    ")\n",
    "from overcooked_ai_py.mdp.overcooked_env import (\n",
    "    DEFAULT_ENV_PARAMS,\n",
    "    OvercookedEnv,\n",
    "    Overcooked\n",
    ")\n",
    "from overcooked_ai_py.mdp.overcooked_mdp import (\n",
    "    ObjectState,\n",
    "    OvercookedGridworld,\n",
    "    OvercookedState,\n",
    "    PlayerState,\n",
    "    Recipe,\n",
    "    SoupState,\n",
    ")\n",
    "from overcooked_ai_py.mdp.overcooked_trajectory import (\n",
    "    DEFAULT_TRAJ_KEYS,\n",
    "    EPISODE_TRAJ_KEYS,\n",
    "    TIMESTEP_TRAJ_KEYS,\n",
    "    append_trajectories,\n",
    ")\n",
    "from overcooked_ai_py.planning.planners import (\n",
    "    NO_COUNTERS_PARAMS,\n",
    "    MediumLevelActionManager,\n",
    "    MotionPlanner,\n",
    ")\n",
    "from overcooked_ai_py.static import TESTING_DATA_DIR\n",
    "from overcooked_ai_py.utils import (\n",
    "    iterate_over_json_files_in_dir,\n",
    "    load_from_json,\n",
    "    load_pickle,\n",
    "    save_as_json,\n",
    "    save_pickle,\n",
    ")\n",
    "\n",
    "START_ORDER_LIST = [\"any\"]\n",
    "n, s = Direction.NORTH, Direction.SOUTH\n",
    "e, w = Direction.EAST, Direction.WEST\n",
    "stay, interact = Action.STAY, Action.INTERACT\n",
    "P, Obj = PlayerState, ObjectState\n",
    "\n",
    "\n",
    "def comb(n, k):\n",
    "    return factorial(n) / (factorial(n - k) * factorial(k))\n",
    "\n",
    "def random_joint_action():\n",
    "    num_actions = len(Action.ALL_ACTIONS)\n",
    "    a_idx0, a_idx1 = np.random.randint(low=0, high=num_actions, size=2)\n",
    "    return (Action.INDEX_TO_ACTION[a_idx0], Action.INDEX_TO_ACTION[a_idx1])\n",
    "\n",
    "force_compute_large = False\n",
    "force_compute = True\n",
    "DISPLAY = False\n",
    "\n",
    "simple_mdp = OvercookedGridworld.from_layout_name(\"cramped_room\")\n",
    "large_mdp = OvercookedGridworld.from_layout_name(\"corridor\")\n"
   ]
  },
  {
   "cell_type": "code",
   "execution_count": 11,
   "metadata": {},
   "outputs": [
    {
     "name": "stdout",
     "output_type": "stream",
     "text": [
      "The autoreload extension is already loaded. To reload it, use:\n",
      "  %reload_ext autoreload\n"
     ]
    }
   ],
   "source": [
    "%load_ext autoreload\n",
    "%autoreload 2"
   ]
  },
  {
   "cell_type": "code",
   "execution_count": 12,
   "metadata": {},
   "outputs": [
    {
     "name": "stdout",
     "output_type": "stream",
     "text": [
      "X       X       X       X       X       O       X       X       X       X       \n",
      "\n",
      "S       →1                                                      ↓0      O       \n",
      "\n",
      "D                                                                       X       \n",
      "\n",
      "X       X       X       X       X       X       P       X       X       X       \n",
      "\n",
      "\n"
     ]
    }
   ],
   "source": [
    "dummy_dir = \"overcooked_test_temp\"\n",
    "\n",
    "if not os.path.exists(dummy_dir):\n",
    "    os.makedirs(dummy_dir)\n",
    "\n",
    "base_mdp = OvercookedGridworld.from_layout_name(\"scenario2\")\n",
    "start_state = OvercookedState(\n",
    "    [P((8, 1), s), P((1, 1), e)],\n",
    "    {},\n",
    "    all_orders=base_mdp.start_all_orders,\n",
    ")\n",
    "env = OvercookedEnv.from_mdp(base_mdp, start_state_fn=lambda: start_state, horizon=100)\n",
    "print(env)"
   ]
  },
  {
   "cell_type": "code",
   "execution_count": 13,
   "metadata": {},
   "outputs": [],
   "source": [
    "\n",
    "\n",
    "# trajectory, time_taken, _, _ = env.run_agents(\n",
    "#     agent_pair, include_final_state=True, display=DISPLAY\n",
    "# )\n",
    "# end_state = trajectory[-1][0]\n"
   ]
  },
  {
   "cell_type": "code",
   "execution_count": 14,
   "metadata": {},
   "outputs": [],
   "source": [
    "mlam = MediumLevelActionManager.from_pickle_or_compute(\n",
    "    base_mdp, NO_COUNTERS_PARAMS, force_compute=True\n",
    ")\n",
    "\n",
    "agent1 = GreedyHumanModel(mlam)\n",
    "agent2 = GreedyHumanModel(mlam)\n",
    "\n",
    "agent_pair = AgentPair(agent1, agent2)"
   ]
  },
  {
   "attachments": {},
   "cell_type": "markdown",
   "metadata": {},
   "source": []
  },
  {
   "cell_type": "code",
   "execution_count": 15,
   "metadata": {},
   "outputs": [
    {
     "name": "stdout",
     "output_type": "stream",
     "text": [
      "timestep 1\n"
     ]
    },
    {
     "ename": "NameError",
     "evalue": "name 'trajectory' is not defined",
     "output_type": "error",
     "traceback": [
      "\u001b[0;31m---------------------------------------------------------------------------\u001b[0m",
      "\u001b[0;31mNameError\u001b[0m                                 Traceback (most recent call last)",
      "\u001b[0;32m/tmp/ipykernel_119017/1666430066.py\u001b[0m in \u001b[0;36m<module>\u001b[0;34m\u001b[0m\n\u001b[1;32m      2\u001b[0m     \u001b[0mprint\u001b[0m\u001b[0;34m(\u001b[0m\u001b[0;34mf\"timestep {i+1}\"\u001b[0m\u001b[0;34m)\u001b[0m\u001b[0;34m\u001b[0m\u001b[0;34m\u001b[0m\u001b[0m\n\u001b[1;32m      3\u001b[0m \u001b[0;34m\u001b[0m\u001b[0m\n\u001b[0;32m----> 4\u001b[0;31m     \u001b[0mprint\u001b[0m\u001b[0;34m(\u001b[0m\u001b[0mtrajectory\u001b[0m\u001b[0;34m[\u001b[0m\u001b[0mi\u001b[0m\u001b[0;34m]\u001b[0m\u001b[0;34m[\u001b[0m\u001b[0;36m4\u001b[0m\u001b[0;34m]\u001b[0m\u001b[0;34m[\u001b[0m\u001b[0;34m'sparse_r_by_agent'\u001b[0m\u001b[0;34m]\u001b[0m\u001b[0;34m,\u001b[0m\u001b[0mtrajectory\u001b[0m\u001b[0;34m[\u001b[0m\u001b[0mi\u001b[0m\u001b[0;34m]\u001b[0m\u001b[0;34m[\u001b[0m\u001b[0;36m4\u001b[0m\u001b[0;34m]\u001b[0m\u001b[0;34m[\u001b[0m\u001b[0;34m'shaped_r_by_agent'\u001b[0m\u001b[0;34m]\u001b[0m\u001b[0;34m)\u001b[0m\u001b[0;34m\u001b[0m\u001b[0;34m\u001b[0m\u001b[0m\n\u001b[0m",
      "\u001b[0;31mNameError\u001b[0m: name 'trajectory' is not defined"
     ]
    }
   ],
   "source": [
    "for i in range(5):\n",
    "    print(f\"timestep {i+1}\")\n",
    "\n",
    "    print(trajectory[i][4]['sparse_r_by_agent'],trajectory[i][4]['shaped_r_by_agent'])"
   ]
  },
  {
   "cell_type": "code",
   "execution_count": null,
   "metadata": {},
   "outputs": [
    {
     "name": "stderr",
     "output_type": "stream",
     "text": [
      "/data/haofenghuang/warmup_project/multi_agent_rl/overcooked_ai/src/overcooked_ai_py/mdp/overcooked_mdp.py:2391: DeprecationWarning: Using the `lossless_state_encoding_shape` property is deprecated. Please use `get_lossless_state_encoding_shape` method instead\n",
      "  DeprecationWarning,\n"
     ]
    },
    {
     "data": {
      "text/plain": [
       "array([10,  4, 26])"
      ]
     },
     "execution_count": 31,
     "metadata": {},
     "output_type": "execute_result"
    }
   ],
   "source": [
    "base_mdp = env.mdp\n",
    "base_mdp.lossless_state_encoding_shape"
   ]
  },
  {
   "cell_type": "code",
   "execution_count": null,
   "metadata": {},
   "outputs": [],
   "source": [
    "mappo_agent1 = MAPPO_Actor(env)\n",
    "mappo_agent2 = MAPPO_Actor(env)\n",
    "agent_pair = AgentPair(mappo_agent1, mappo_agent2)"
   ]
  },
  {
   "cell_type": "code",
   "execution_count": null,
   "metadata": {},
   "outputs": [
    {
     "name": "stdout",
     "output_type": "stream",
     "text": [
      "338\n",
      "339\n",
      "343\n",
      "347\n",
      "676\n",
      "677\n",
      "680\n",
      "684\n"
     ]
    }
   ],
   "source": [
    "state1 = env.lossless_state_encoding_mdp(env.state)[0]\n",
    "state2 = env.lossless_state_encoding_mdp(env.state)[1]\n",
    "\n",
    "# flatten the state\n",
    "state1 = state1.flatten()\n",
    "state2 = state2.flatten()\n",
    "\n",
    "for i in range(len(state1)):\n",
    "    if state1[i] != state2[i]:\n",
    "        print(i)"
   ]
  },
  {
   "cell_type": "code",
   "execution_count": 43,
   "metadata": {},
   "outputs": [
    {
     "name": "stdout",
     "output_type": "stream",
     "text": [
      "Computing MotionPlanner to be saved in /data/haofenghuang/warmup_project/mappo/overcooked_ai/src/overcooked_ai_py/data/planners/large_room_mp.pkl\n",
      "It took 0.15352559089660645 seconds to create mp\n"
     ]
    }
   ],
   "source": [
    "mdp = OvercookedGridworld.from_layout_name(\"large_room\")\n",
    "base_env = OvercookedEnv.from_mdp(mdp, horizon=500)\n",
    "gym_env = Overcooked(base_env = base_env, featurize_fn =base_env.featurize_state_mdp)"
   ]
  },
  {
   "cell_type": "code",
   "execution_count": 44,
   "metadata": {},
   "outputs": [
    {
     "data": {
      "text/plain": [
       "array([[0.],\n",
       "       [0.]], dtype=float32)"
      ]
     },
     "execution_count": 44,
     "metadata": {},
     "output_type": "execute_result"
    }
   ],
   "source": [
    "\n",
    "\n",
    "action = np.array([[5],[1]])\n",
    "\n",
    "obs, reward, done, info = gym_env.step(action)\n",
    "reward"
   ]
  },
  {
   "cell_type": "code",
   "execution_count": 45,
   "metadata": {},
   "outputs": [
    {
     "data": {
      "text/plain": [
       "X       X       X       P       X       X       X       \n",
       "\n",
       "O                                               O       \n",
       "\n",
       "X                                       ↓1      X       \n",
       "\n",
       "X                                               X       \n",
       "\n",
       "X                                               X       \n",
       "\n",
       "X       ↑0                                      X       \n",
       "\n",
       "X       D       X       X       X       S       X       \n"
      ]
     },
     "execution_count": 45,
     "metadata": {},
     "output_type": "execute_result"
    }
   ],
   "source": [
    "gym_env.base_env"
   ]
  }
 ],
 "metadata": {
  "kernelspec": {
   "display_name": "overcooked_ai",
   "language": "python",
   "name": "python3"
  },
  "language_info": {
   "codemirror_mode": {
    "name": "ipython",
    "version": 3
   },
   "file_extension": ".py",
   "mimetype": "text/x-python",
   "name": "python",
   "nbconvert_exporter": "python",
   "pygments_lexer": "ipython3",
   "version": "3.7.16"
  },
  "orig_nbformat": 4
 },
 "nbformat": 4,
 "nbformat_minor": 2
}
